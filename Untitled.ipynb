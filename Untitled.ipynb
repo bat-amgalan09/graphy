{
 "cells": [
  {
   "cell_type": "code",
   "execution_count": 1,
   "id": "committed-hampton",
   "metadata": {},
   "outputs": [],
   "source": [
    "import graphy"
   ]
  },
  {
   "cell_type": "code",
   "execution_count": 17,
   "id": "sound-style",
   "metadata": {},
   "outputs": [],
   "source": [
    "location = graphy.locationer(66.8625,40.8467)"
   ]
  },
  {
   "cell_type": "code",
   "execution_count": 18,
   "id": "thrown-inspiration",
   "metadata": {},
   "outputs": [
    {
     "data": {
      "text/plain": [
       "'сельское поселение Ловозеро, Ловозерский район, Мурманская область, Северо-Западный федеральный округ, Россия'"
      ]
     },
     "execution_count": 18,
     "metadata": {},
     "output_type": "execute_result"
    }
   ],
   "source": [
    "location"
   ]
  },
  {
   "cell_type": "code",
   "execution_count": 4,
   "id": "according-innocent",
   "metadata": {},
   "outputs": [
    {
     "data": {
      "text/plain": [
       "946.3876221719836"
      ]
     },
     "execution_count": 4,
     "metadata": {},
     "output_type": "execute_result"
    }
   ],
   "source": [
    "graphy.distance_lonlat(52.370216, 4.895168, 52.520008,13.404954)"
   ]
  },
  {
   "cell_type": "code",
   "execution_count": 5,
   "id": "better-bronze",
   "metadata": {},
   "outputs": [],
   "source": [
    "import geopandas\n"
   ]
  },
  {
   "cell_type": "code",
   "execution_count": null,
   "id": "bridal-winning",
   "metadata": {},
   "outputs": [],
   "source": []
  }
 ],
 "metadata": {
  "kernelspec": {
   "display_name": "Python 3",
   "language": "python",
   "name": "python3"
  },
  "language_info": {
   "codemirror_mode": {
    "name": "ipython",
    "version": 3
   },
   "file_extension": ".py",
   "mimetype": "text/x-python",
   "name": "python",
   "nbconvert_exporter": "python",
   "pygments_lexer": "ipython3",
   "version": "3.8.8"
  }
 },
 "nbformat": 4,
 "nbformat_minor": 5
}
